{
 "cells": [
  {
   "cell_type": "code",
   "execution_count": null,
   "metadata": {},
   "outputs": [],
   "source": [
    "import pickle as pk\n",
    "students={\n",
    "    \"student1\":{\"name\":\"Alice\",\"age\":10,\"grade\":4},\"student2\":{\"name\":\"Bob\",\"age\":12,\"grade\":5},\n",
    "    \"student3\":{\"name\":\"Shelly\",\"age\":11,\"grade\":5}\n",
    "}\n",
    "with open(\"student_info.pkl\",\"wb\") as writeing:#serialization with pickle\n",
    "    pk.dump(students,writeing)\n",
    "with open(\"student_info.pkl\",\"rb\") as reading:#deserialiazationwith pickle\n",
    "    print(pk.load(reading))    "
   ]
  }
 ],
 "metadata": {
  "language_info": {
   "name": "python"
  }
 },
 "nbformat": 4,
 "nbformat_minor": 2
}
