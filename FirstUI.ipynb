{
 "cells": [
  {
   "cell_type": "code",
   "execution_count": 1,
   "metadata": {},
   "outputs": [],
   "source": [
    "import tkinter\n",
    "m = tkinter.Tk()\n",
    "'''\n",
    "widgets are added here\n",
    "'''\n",
    "m.mainloop()\n"
   ]
  },
  {
   "cell_type": "code",
   "execution_count": null,
   "metadata": {},
   "outputs": [],
   "source": [
    "from tkinter import *\n",
    "root = Tk()\n",
    "w = Label(root, text='GeeksForGeeks.org!')\n",
    "\n",
    "\n",
    "w.pack()\n",
    "root.mainloop()\n"
   ]
  },
  {
   "cell_type": "code",
   "execution_count": null,
   "metadata": {},
   "outputs": [],
   "source": [
    "from tkinter import *\n",
    "root = Tk()\n",
    "w = Label(root, text='GeeksForGeeks.org!')\n",
    "w.pack()\n",
    "root.mainloop()\n"
   ]
  },
  {
   "cell_type": "code",
   "execution_count": null,
   "metadata": {},
   "outputs": [],
   "source": [
    "from tkinter import *\n",
    "\n",
    "master = Tk()\n",
    "Label(master, text='First Name').grid(row=0)\n",
    "Label(master, text='Last Name').grid(row=1)\n",
    "e1 = Entry(master)\n",
    "e2 = Entry(master)\n",
    "e1.grid(row=0, column=1)\n",
    "e2.grid(row=1, column=1)\n",
    "mainloop()\n"
   ]
  },
  {
   "cell_type": "code",
   "execution_count": null,
   "metadata": {},
   "outputs": [],
   "source": [
    "# checkbox\n",
    "from tkinter import *\n",
    "\n",
    "master = Tk()\n",
    "var1 = IntVar()\n",
    "Checkbutton(master, text='male', variable=var1).grid(row=0, sticky=W)\n",
    "var2 = IntVar()\n",
    "Checkbutton(master, text='female', variable=var2).grid(row=1, sticky=W)\n",
    "mainloop()\n"
   ]
  },
  {
   "cell_type": "code",
   "execution_count": null,
   "metadata": {},
   "outputs": [],
   "source": [
    "# Radio button\n",
    "from tkinter import *\n",
    "\n",
    "root = Tk()\n",
    "v = IntVar()\n",
    "Radiobutton(root, text='GfG', variable=v, value=1).pack(anchor=W)\n",
    "Radiobutton(root, text='MIT', variable=v, value=2).pack(anchor=W)\n",
    "mainloop()\n"
   ]
  },
  {
   "cell_type": "code",
   "execution_count": null,
   "metadata": {},
   "outputs": [],
   "source": [
    "# Listbox\n",
    "from tkinter import *\n",
    "\n",
    "top = Tk()\n",
    "Lb = Listbox(top)\n",
    "Lb.insert(1, 'Python')\n",
    "Lb.insert(2, 'Java')\n",
    "Lb.insert(3, 'C++')\n",
    "Lb.insert(4, 'Any other')\n",
    "Lb.pack()\n",
    "top.mainloop()\n"
   ]
  },
  {
   "cell_type": "code",
   "execution_count": null,
   "metadata": {},
   "outputs": [],
   "source": [
    "#scroll bar\n",
    "from tkinter import *\n",
    "\n",
    "root = Tk()\n",
    "scrollbar = Scrollbar(root)\n",
    "scrollbar.pack(side=RIGHT, fill=Y)\n",
    "mylist = Listbox(root, yscrollcommand=scrollbar.set)\n",
    "\n",
    "for line in range(100):\n",
    "    mylist.insert(END, 'This is line number' + str(line))\n",
    "    \n",
    "mylist.pack(side=LEFT, fill=BOTH)\n",
    "scrollbar.config(command=mylist.yview)\n",
    "mainloop()\n"
   ]
  },
  {
   "cell_type": "code",
   "execution_count": null,
   "metadata": {},
   "outputs": [],
   "source": [
    "#Menu\n",
    "from tkinter import *\n",
    "\n",
    "root = Tk()\n",
    "menu = Menu(root)\n",
    "root.config(menu=menu)\n",
    "filemenu = Menu(menu)\n",
    "menu.add_cascade(label='File', menu=filemenu)\n",
    "filemenu.add_command(label='New')\n",
    "filemenu.add_command(label='Open...')\n",
    "filemenu.add_separator()\n",
    "filemenu.add_command(label='Exit', command=root.quit)\n",
    "helpmenu = Menu(menu)\n",
    "menu.add_cascade(label='Help', menu=helpmenu)\n",
    "helpmenu.add_command(label='About')\n",
    "mainloop()\n"
   ]
  },
  {
   "cell_type": "code",
   "execution_count": null,
   "metadata": {},
   "outputs": [],
   "source": [
    "# Combo box\n",
    "import tkinter as tk\n",
    "from tkinter import ttk\n",
    "\n",
    "def on_select(event):\n",
    "    selected_item = combo_box.get()\n",
    "    label.config(text=\"Selected Item: \" + selected_item)\n",
    "\n",
    "root = tk.Tk()\n",
    "root.title(\"Combobox Example\")\n",
    "\n",
    "# Create a label\n",
    "label = tk.Label(root, text=\"Selected Item: \")\n",
    "label.pack(pady=10)\n",
    "\n",
    "# Create a Combobox widget\n",
    "combo_box = ttk.Combobox(root, values=[\"Option 1\", \"Option 2\", \"Option 3\"])\n",
    "combo_box.pack(pady=5)\n",
    "\n",
    "# Set default value\n",
    "combo_box.set(\"Option 1\")\n",
    "\n",
    "# Bind event to selection\n",
    "combo_box.bind(\"<<ComboboxSelected>>\", on_select)\n",
    "\n",
    "root.mainloop()\n"
   ]
  },
  {
   "cell_type": "code",
   "execution_count": null,
   "metadata": {},
   "outputs": [],
   "source": [
    "import tkinter as tk\n",
    "# Function to update the input field\n",
    "def button_click(char):\n",
    "    current = entry.get()\n",
    "    if char == \"C\":\n",
    "        entry.delete(0, tk.END)\n",
    "    elif char == \"=\":\n",
    "        try:\n",
    "            result = eval(current)\n",
    "            entry.delete(0, tk.END)\n",
    "            entry.insert(0, result)\n",
    "        except Exception:\n",
    "            entry.delete(0, tk.END)\n",
    "            entry.insert(0, \"Error\")\n",
    "    elif char == \"←\":\n",
    "        entry.delete(len(current) - 1, tk.END)\n",
    "    else:\n",
    "        entry.insert(tk.END, char)\n",
    "\n",
    "# Create the main window\n",
    "root = tk.Tk()\n",
    "root.title(\"Calculator\")\n",
    "\n",
    "# Create an input field\n",
    "entry = tk.Entry(root, width=20, font=(\"Arial\", 20))\n",
    "entry.grid(row=0, column=0, columnspan=5)\n",
    "\n",
    "# Create buttons for digits (0-9)\n",
    "buttons = [\n",
    "    \"7\", \"8\", \"9\", \"+\",\n",
    "    \"4\", \"5\", \"6\", \"-\",\n",
    "    \"1\", \"2\", \"3\", \"*\",\n",
    "    \"0\", \".\", \"=\", \"/\"\n",
    "]\n",
    "row, col = 1, 0\n",
    "for button in buttons:\n",
    "    tk.Button(root, text=button, padx=20, pady=20, font=(\"Arial\", 16),\n",
    "              command=lambda button=button: button_click(button)).grid(row=row, column=col)\n",
    "    col += 1\n",
    "    if col > 3:\n",
    "        col = 0\n",
    "        row += 1\n",
    "\n",
    "# Create a Backspace button\n",
    "tk.Button(root, text=\"←\", padx=20, pady=20, font=(\"Arial\", 16),\n",
    "          command=lambda: button_click(\"←\")).grid(row=5, column=3)\n",
    "\n",
    "# Create a Clear (C) button\n",
    "tk.Button(root, text=\"C\", padx=20, pady=20, font=(\"Arial\", 16),\n",
    "          command=lambda: button_click(\"C\")).grid(row=5, column=2)\n",
    "\n",
    "# Start the Tkinter main loop\n",
    "root.mainloop()\n"
   ]
  }
 ],
 "metadata": {
  "kernelspec": {
   "display_name": "Python 3",
   "language": "python",
   "name": "python3"
  },
  "language_info": {
   "codemirror_mode": {
    "name": "ipython",
    "version": 3
   },
   "file_extension": ".py",
   "mimetype": "text/x-python",
   "name": "python",
   "nbconvert_exporter": "python",
   "pygments_lexer": "ipython3",
   "version": "3.12.3"
  }
 },
 "nbformat": 4,
 "nbformat_minor": 2
}
